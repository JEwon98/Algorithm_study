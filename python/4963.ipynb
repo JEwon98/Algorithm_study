{
 "metadata": {
  "language_info": {
   "codemirror_mode": {
    "name": "ipython",
    "version": 3
   },
   "file_extension": ".py",
   "mimetype": "text/x-python",
   "name": "python",
   "nbconvert_exporter": "python",
   "pygments_lexer": "ipython3",
   "version": "3.9.5"
  },
  "orig_nbformat": 2,
  "kernelspec": {
   "name": "python395jvsc74a57bd0f3770e73af5ef2dd71ff5d609037a48d9f4381c59e369c5448d24575c71408ec",
   "display_name": "Python 3.9.5 64-bit"
  },
  "metadata": {
   "interpreter": {
    "hash": "f3770e73af5ef2dd71ff5d609037a48d9f4381c59e369c5448d24575c71408ec"
   }
  }
 },
 "nbformat": 4,
 "nbformat_minor": 2,
 "cells": [
  {
   "cell_type": "code",
   "execution_count": 1,
   "metadata": {},
   "outputs": [],
   "source": [
    "#boj 4963\n",
    "#월요일도 바쁘니까 미리하자"
    "dx = [1, -1, 0, 0, 1, -1, 1, -1]
     dy = [0, 0, -1, 1, -1, -1, 1, 1]
     def bfs(i, j):
      s[i][j] = 0
      queue = [[i, j]]
     while queue:
         a, b = queue[0][0], queue[0][1]
         del queue[0]
         for k in range(8):
             x = a + dx[k]
             y = b + dy[k]
             if 0 <= x < h and 0 <= y < w and s[x][y] == 1:
                 s[x][y] = 0
                 queue.append([x, y])
    while True:
        w, h = map(int, input().split())
        if w == 0 and h == 0:
            break
        s = []
        cnt = 0
        for i in range(h):
            s.append(list(map(int, input().split())))
        for i in range(h):
            for j in range(w):
                if s[i][j] == 1:
                    bfs(i, j)
                    cnt += 1
        print(cnt)"
   ]
  },
  {
   "cell_type": "code",
   "execution_count": null,
   "metadata": {},
   "outputs": [],
   "source": [
    "import sys\n",
    "\n"
   ]
  }
 ]
}
